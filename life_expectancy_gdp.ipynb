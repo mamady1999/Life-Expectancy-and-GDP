{
 "cells": [
  {
   "cell_type": "markdown",
   "metadata": {},
   "source": [
    "## *Importation of modules*"
   ]
  },
  {
   "cell_type": "code",
   "execution_count": 37,
   "metadata": {},
   "outputs": [],
   "source": [
    "import pandas as pd\n",
    "import numpy as np\n",
    "from matplotlib import pyplot as plt\n",
    "import seaborn as sns\n",
    "from scipy.stats import pearsonr"
   ]
  },
  {
   "cell_type": "markdown",
   "metadata": {},
   "source": [
    "##  *Loading the data*"
   ]
  },
  {
   "cell_type": "code",
   "execution_count": 2,
   "metadata": {},
   "outputs": [],
   "source": [
    "df = pd.read_csv(\"all_data.csv\")"
   ]
  },
  {
   "cell_type": "markdown",
   "metadata": {},
   "source": [
    "## *DataFrame inspection*"
   ]
  },
  {
   "cell_type": "code",
   "execution_count": 15,
   "metadata": {},
   "outputs": [
    {
     "name": "stdout",
     "output_type": "stream",
     "text": [
      "    Country  Year  Life expectancy at birth (years)           GDP\n",
      "0     Chile  2000                              77.3  7.786093e+10\n",
      "1     Chile  2001                              77.3  7.097992e+10\n",
      "2     Chile  2002                              77.8  6.973681e+10\n",
      "3     Chile  2003                              77.9  7.564346e+10\n",
      "4     Chile  2004                              78.0  9.921039e+10\n",
      "5     Chile  2005                              78.4  1.229650e+11\n",
      "6     Chile  2006                              78.9  1.547880e+11\n",
      "7     Chile  2007                              78.9  1.736060e+11\n",
      "8     Chile  2008                              79.6  1.796380e+11\n",
      "9     Chile  2009                              79.3  1.723890e+11\n",
      "10    Chile  2010                              79.1  2.185380e+11\n",
      "11    Chile  2011                              79.8  2.522520e+11\n",
      "12    Chile  2012                              79.9  2.671220e+11\n",
      "13    Chile  2013                              80.1  2.783840e+11\n",
      "14    Chile  2014                              80.3  2.609900e+11\n",
      "15    Chile  2015                              80.5  2.425180e+11\n",
      "16    China  2000                              71.7  1.211350e+12\n",
      "17    China  2001                              72.2  1.339400e+12\n",
      "18    China  2002                              72.7  1.470550e+12\n",
      "19    China  2003                              73.1  1.660290e+12\n",
      "20    China  2004                              73.5  1.955350e+12\n",
      "21    China  2005                              73.9  2.285970e+12\n",
      "22    China  2006                              74.2  2.752130e+12\n",
      "23    China  2007                              74.4  3.552180e+12\n",
      "24    China  2008                              74.5  4.598210e+12\n",
      "25    China  2009                              74.9  5.109950e+12\n",
      "26    China  2010                              75.0  6.100620e+12\n",
      "27    China  2011                              75.2  7.572550e+12\n",
      "28    China  2012                              75.4  8.560550e+12\n",
      "29    China  2013                              75.6  9.607220e+12\n",
      "30    China  2014                              75.8  1.048240e+13\n",
      "31    China  2015                              76.1  1.106470e+13\n",
      "32  Germany  2000                              78.0  1.949950e+12\n",
      "33  Germany  2001                              78.3  1.950650e+12\n",
      "34  Germany  2002                              78.4  2.079140e+12\n",
      "35  Germany  2003                              78.5  2.505730e+12\n",
      "36  Germany  2004                              79.1  2.819250e+12\n",
      "37  Germany  2005                              79.2  2.861410e+12\n",
      "38  Germany  2006                              79.6  3.002450e+12\n",
      "39  Germany  2007                              79.8  3.439950e+12\n",
      "40  Germany  2008                              79.9  3.752370e+12\n",
      "41  Germany  2009                              80.0  3.418010e+12\n",
      "42  Germany  2010                              80.1  3.417090e+12\n",
      "43  Germany  2011                              80.5  3.757700e+12\n",
      "44  Germany  2012                              80.6  3.543980e+12\n",
      "45  Germany  2013                              80.6  3.752510e+12\n",
      "46  Germany  2014                              80.9  3.890610e+12\n",
      "47  Germany  2015                              81.0  3.375610e+12\n",
      "48   Mexico  2000                              74.8  6.836480e+11\n",
      "49   Mexico  2001                              75.0  7.247040e+11\n"
     ]
    }
   ],
   "source": [
    "print(df.head(n=50))"
   ]
  },
  {
   "cell_type": "markdown",
   "metadata": {},
   "source": [
    "## *Informations on our DataFrame's columns with Pandas' method info()*"
   ]
  },
  {
   "cell_type": "code",
   "execution_count": 4,
   "metadata": {},
   "outputs": [
    {
     "name": "stdout",
     "output_type": "stream",
     "text": [
      "<class 'pandas.core.frame.DataFrame'>\n",
      "RangeIndex: 96 entries, 0 to 95\n",
      "Data columns (total 4 columns):\n",
      " #   Column                            Non-Null Count  Dtype  \n",
      "---  ------                            --------------  -----  \n",
      " 0   Country                           96 non-null     object \n",
      " 1   Year                              96 non-null     int64  \n",
      " 2   Life expectancy at birth (years)  96 non-null     float64\n",
      " 3   GDP                               96 non-null     float64\n",
      "dtypes: float64(2), int64(1), object(1)\n",
      "memory usage: 3.1+ KB\n",
      "None\n"
     ]
    }
   ],
   "source": [
    "print(df.info())"
   ]
  },
  {
   "cell_type": "markdown",
   "metadata": {},
   "source": [
    "* Country - nation\n",
    "* Year - the year for the observation\n",
    "* Life expectancy at birth (years) - life expectancy value in years\n",
    "* GDP - Gross Domestic Product in U.S. dollars"
   ]
  },
  {
   "cell_type": "markdown",
   "metadata": {},
   "source": [
    "## *Explore and Explain Data*"
   ]
  },
  {
   "cell_type": "markdown",
   "metadata": {},
   "source": [
    "1. ### *statistiques récapitulatives :*\n",
    "_  *We have two quantitatives variables that are : Year, Life expectancy at birth (years) and GDP (Gross Domestic Product in U.S. dollars)*\n"
   ]
  },
  {
   "cell_type": "code",
   "execution_count": 10,
   "metadata": {},
   "outputs": [
    {
     "data": {
      "text/html": [
       "<div>\n",
       "<style scoped>\n",
       "    .dataframe tbody tr th:only-of-type {\n",
       "        vertical-align: middle;\n",
       "    }\n",
       "\n",
       "    .dataframe tbody tr th {\n",
       "        vertical-align: top;\n",
       "    }\n",
       "\n",
       "    .dataframe thead th {\n",
       "        text-align: right;\n",
       "    }\n",
       "</style>\n",
       "<table border=\"1\" class=\"dataframe\">\n",
       "  <thead>\n",
       "    <tr style=\"text-align: right;\">\n",
       "      <th></th>\n",
       "      <th>Life expectancy at birth (years)</th>\n",
       "      <th>GDP</th>\n",
       "    </tr>\n",
       "  </thead>\n",
       "  <tbody>\n",
       "    <tr>\n",
       "      <th>count</th>\n",
       "      <td>96.000000</td>\n",
       "      <td>9.600000e+01</td>\n",
       "    </tr>\n",
       "    <tr>\n",
       "      <th>min</th>\n",
       "      <td>44.300000</td>\n",
       "      <td>4.415703e+09</td>\n",
       "    </tr>\n",
       "    <tr>\n",
       "      <th>25%</th>\n",
       "      <td>74.475000</td>\n",
       "      <td>1.733018e+11</td>\n",
       "    </tr>\n",
       "    <tr>\n",
       "      <th>50%</th>\n",
       "      <td>76.750000</td>\n",
       "      <td>1.280220e+12</td>\n",
       "    </tr>\n",
       "    <tr>\n",
       "      <th>mean</th>\n",
       "      <td>72.789583</td>\n",
       "      <td>3.880499e+12</td>\n",
       "    </tr>\n",
       "    <tr>\n",
       "      <th>75%</th>\n",
       "      <td>78.900000</td>\n",
       "      <td>4.067510e+12</td>\n",
       "    </tr>\n",
       "    <tr>\n",
       "      <th>std</th>\n",
       "      <td>10.672882</td>\n",
       "      <td>5.197561e+12</td>\n",
       "    </tr>\n",
       "    <tr>\n",
       "      <th>max</th>\n",
       "      <td>81.000000</td>\n",
       "      <td>1.810000e+13</td>\n",
       "    </tr>\n",
       "  </tbody>\n",
       "</table>\n",
       "</div>"
      ],
      "text/plain": [
       "       Life expectancy at birth (years)           GDP\n",
       "count                         96.000000  9.600000e+01\n",
       "min                           44.300000  4.415703e+09\n",
       "25%                           74.475000  1.733018e+11\n",
       "50%                           76.750000  1.280220e+12\n",
       "mean                          72.789583  3.880499e+12\n",
       "75%                           78.900000  4.067510e+12\n",
       "std                           10.672882  5.197561e+12\n",
       "max                           81.000000  1.810000e+13"
      ]
     },
     "execution_count": 10,
     "metadata": {},
     "output_type": "execute_result"
    }
   ],
   "source": [
    "df.loc[:,[\"Life expectancy at birth (years)\",\"GDP\"]].describe().sort_values(by = [\"GDP\"], ascending = True)"
   ]
  },
  {
   "cell_type": "markdown",
   "metadata": {},
   "source": [
    "#### _*Calculation of proportions for categorical variables*"
   ]
  },
  {
   "cell_type": "code",
   "execution_count": 14,
   "metadata": {},
   "outputs": [
    {
     "data": {
      "text/plain": [
       "Germany                     0.166667\n",
       "Chile                       0.166667\n",
       "United States of America    0.166667\n",
       "China                       0.166667\n",
       "Mexico                      0.166667\n",
       "Zimbabwe                    0.166667\n",
       "Name: Country, dtype: float64"
      ]
     },
     "execution_count": 14,
     "metadata": {},
     "output_type": "execute_result"
    }
   ],
   "source": [
    "df.loc[:,\"Country\"].value_counts(normalize = True)"
   ]
  },
  {
   "cell_type": "markdown",
   "metadata": {},
   "source": [
    "2. ### Data Visualization with Matplotlib and Seaborn"
   ]
  },
  {
   "cell_type": "markdown",
   "metadata": {},
   "source": [
    "_ With the visualisation, we will answer the following questions.\n",
    "1. Has life expectancy increased over time in the six nations?\n",
    "2. Has GDP increased over time in the six nations?\n",
    "3. Is there a correlation between GDP and life expectancy of a country?\n",
    "4. What is the average life expectancy in these nations?"
   ]
  },
  {
   "cell_type": "markdown",
   "metadata": {},
   "source": [
    "####  **To answer the first question, we will use a  bar graph to see the different variations over time.**"
   ]
  },
  {
   "cell_type": "code",
   "execution_count": 46,
   "metadata": {},
   "outputs": [
    {
     "data": {
      "image/png": "[encoded data removed]",
      "text/plain": [
       "<Figure size 432x288 with 1 Axes>"
      ]
     },
     "metadata": {
      "needs_background": "light"
     },
     "output_type": "display_data"
    }
   ],
   "source": [
    "sns.barplot(data = df, x = \"Year\", y = \"Life expectancy at birth (years)\",hue=\"Country\")\n",
    "plt.legend(loc=3)\n",
    "plt.savefig(\"fig1.png\")\n",
    "plt.show()"
   ]
  },
  {
   "cell_type": "markdown",
   "metadata": {},
   "source": [
    "**From the graph we can see that life expectancy is increasing over time in all six countries.**"
   ]
  },
  {
   "cell_type": "markdown",
   "metadata": {},
   "source": [
    "**To answer the second question, we will use a bar graph to see the different variations over time.**\n"
   ]
  },
  {
   "cell_type": "code",
   "execution_count": 47,
   "metadata": {},
   "outputs": [
    {
     "data": {
      "image/png": "[encoded data removed]",
      "text/plain": [
       "<Figure size 432x288 with 1 Axes>"
      ]
     },
     "metadata": {
      "needs_background": "light"
     },
     "output_type": "display_data"
    }
   ],
   "source": [
    "sns.barplot(data = df, x = \"Year\", y = \"GDP\",hue=\"Country\")\n",
    "plt.legend(loc=0)\n",
    "plt.savefig(\"fig2.png\")\n",
    "plt.show()"
   ]
  },
  {
   "cell_type": "markdown",
   "metadata": {},
   "source": [
    "**The increase in GDP in the six countries over time can be seen.**"
   ]
  },
  {
   "cell_type": "markdown",
   "metadata": {},
   "source": [
    "**In the third case, a point cloud is used.**"
   ]
  },
  {
   "cell_type": "code",
   "execution_count": 48,
   "metadata": {},
   "outputs": [
    {
     "data": {
      "image/png": "[encoded data removed]",
      "text/plain": [
       "<Figure size 432x288 with 1 Axes>"
      ]
     },
     "metadata": {
      "needs_background": "light"
     },
     "output_type": "display_data"
    }
   ],
   "source": [
    "sns.scatterplot(data=df, x=\"Life expectancy at birth (years)\", y=\"GDP\", hue=\"Country\")\n",
    "plt.savefig(\"fig3.png\")\n",
    "plt.show()"
   ]
  },
  {
   "cell_type": "markdown",
   "metadata": {},
   "source": [
    "Calculation of the correlation with scipy"
   ]
  },
  {
   "cell_type": "code",
   "execution_count": 29,
   "metadata": {},
   "outputs": [
    {
     "name": "stdout",
     "output_type": "stream",
     "text": [
      "Valeur du coefficient de corrélation de pearson :0.343206748449156\n"
     ]
    }
   ],
   "source": [
    "corr,p = pearsonr(df[\"Life expectancy at birth (years)\"], df[\"GDP\"])\n",
    "print(f\"Valeur du coefficient de corrélation de pearson :{corr}\")"
   ]
  },
  {
   "cell_type": "markdown",
   "metadata": {},
   "source": [
    "**According to the graph and the value of the correlation coefficient, a linear correlation is found.**"
   ]
  },
  {
   "cell_type": "markdown",
   "metadata": {},
   "source": [
    "### **Calculation of the average life expectancy per country.**"
   ]
  },
  {
   "cell_type": "code",
   "execution_count": 30,
   "metadata": {},
   "outputs": [
    {
     "data": {
      "text/html": [
       "<div>\n",
       "<style scoped>\n",
       "    .dataframe tbody tr th:only-of-type {\n",
       "        vertical-align: middle;\n",
       "    }\n",
       "\n",
       "    .dataframe tbody tr th {\n",
       "        vertical-align: top;\n",
       "    }\n",
       "\n",
       "    .dataframe thead th {\n",
       "        text-align: right;\n",
       "    }\n",
       "</style>\n",
       "<table border=\"1\" class=\"dataframe\">\n",
       "  <thead>\n",
       "    <tr style=\"text-align: right;\">\n",
       "      <th></th>\n",
       "      <th>Country</th>\n",
       "      <th>Life expectancy at birth (years)</th>\n",
       "    </tr>\n",
       "  </thead>\n",
       "  <tbody>\n",
       "    <tr>\n",
       "      <th>0</th>\n",
       "      <td>Chile</td>\n",
       "      <td>78.94375</td>\n",
       "    </tr>\n",
       "    <tr>\n",
       "      <th>1</th>\n",
       "      <td>China</td>\n",
       "      <td>74.26250</td>\n",
       "    </tr>\n",
       "    <tr>\n",
       "      <th>2</th>\n",
       "      <td>Germany</td>\n",
       "      <td>79.65625</td>\n",
       "    </tr>\n",
       "    <tr>\n",
       "      <th>3</th>\n",
       "      <td>Mexico</td>\n",
       "      <td>75.71875</td>\n",
       "    </tr>\n",
       "    <tr>\n",
       "      <th>4</th>\n",
       "      <td>United States of America</td>\n",
       "      <td>78.06250</td>\n",
       "    </tr>\n",
       "    <tr>\n",
       "      <th>5</th>\n",
       "      <td>Zimbabwe</td>\n",
       "      <td>50.09375</td>\n",
       "    </tr>\n",
       "  </tbody>\n",
       "</table>\n",
       "</div>"
      ],
      "text/plain": [
       "                    Country  Life expectancy at birth (years)\n",
       "0                     Chile                          78.94375\n",
       "1                     China                          74.26250\n",
       "2                   Germany                          79.65625\n",
       "3                    Mexico                          75.71875\n",
       "4  United States of America                          78.06250\n",
       "5                  Zimbabwe                          50.09375"
      ]
     },
     "execution_count": 30,
     "metadata": {},
     "output_type": "execute_result"
    }
   ],
   "source": [
    "df.groupby(\"Country\")[\"Life expectancy at birth (years)\"].mean().reset_index()"
   ]
  },
  {
   "cell_type": "markdown",
   "metadata": {},
   "source": [
    "###  *First of all, a big thank you to the codeacademy team for giving me the chance to realise my dreams, i.e. to do data science. The realization of this project allowed me to have a general idea on a data science project, but also and especially to put into practice the knowledge acquired so far.Thank you for everything.*"
   ]
  },
  {
   "cell_type": "code",
   "execution_count": null,
   "metadata": {},
   "outputs": [],
   "source": []
  }
 ],
 "metadata": {
  "kernelspec": {
   "display_name": "Python 3",
   "language": "python",
   "name": "python3"
  },
  "language_info": {
   "codemirror_mode": {
    "name": "ipython",
    "version": 3
   },
   "file_extension": ".py",
   "mimetype": "text/x-python",
   "name": "python",
   "nbconvert_exporter": "python",
   "pygments_lexer": "ipython3",
   "version": "3.8.3"
  }
 },
 "nbformat": 4,
 "nbformat_minor": 4
}
